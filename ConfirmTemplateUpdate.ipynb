{
 "cells": [
  {
   "cell_type": "code",
   "execution_count": 1,
   "metadata": {},
   "outputs": [],
   "source": [
    "import pandas as pd\n",
    "from glob import glob"
   ]
  },
  {
   "cell_type": "code",
   "execution_count": 25,
   "metadata": {},
   "outputs": [],
   "source": [
    "headDir = '/sfs/qumulo/qproject/biocomplexity/STOMPflu/'\n",
    "expPatternOld = headDir + 'STOMP-flu/PatchSim-Experiments-Gen/experiments/WorkingTemplateP9_USA/HP_01/outcomes/USNational/*UVA.csv'\n",
    "expPatternNew = headDir + 'STOMP-flu-external/PatchSim-Experiments-Gen/experiments/WorkingTemplateP9_USA/HP_01/outcomes/USNational/*UVA.csv'\n",
    "\n",
    "oldFiles = sorted(glob(expPatternOld))\n",
    "newFiles = sorted(glob(expPatternNew))"
   ]
  },
  {
   "cell_type": "code",
   "execution_count": 35,
   "metadata": {},
   "outputs": [
    {
     "name": "stdout",
     "output_type": "stream",
     "text": [
      "File:HP_01_AntiviralTX_UVA.csv\t\tOld length:2454\t\tNew length:2454\t\tEquals:True\n",
      "File:HP_01_Deaths_UVA.csv\t\tOld length:3654\t\tNew length:3654\t\tEquals:False\n",
      "File:HP_01_Hosp_UVA.csv\t\tOld length:3654\t\tNew length:3654\t\tEquals:False\n",
      "File:HP_01_SymIllness_UVA.csv\t\tOld length:1254\t\tNew length:1254\t\tEquals:True\n",
      "File:HP_01_Vent_UVA.csv\t\tOld length:3654\t\tNew length:3654\t\tEquals:False\n"
     ]
    }
   ],
   "source": [
    "for oldRef,newRef in zip(oldFiles,newFiles):\n",
    "    newDf = pd.read_csv(newRef)\n",
    "    oldDf = pd.read_csv(oldRef)\n",
    "    newLen = len(newDf)\n",
    "    oldLen = len(oldDf)\n",
    "    equiv = newDf.equals(oldDf)\n",
    "    name = oldRef.split('/')[-1]\n",
    "    print(f'File:{name}\\t\\tOld length:{oldLen}\\t\\tNew length:{newLen}\\t\\tEquals:{equiv}')"
   ]
  },
  {
   "cell_type": "code",
   "execution_count": 36,
   "metadata": {},
   "outputs": [
    {
     "data": {
      "text/plain": [
       "'/sfs/qumulo/qproject/biocomplexity/STOMPflu/STOMP-flu-external/PatchSim-Experiments-Gen/experiments/WorkingTemplateP9_USA/HP_01/outcomes/USNational/*UVA.csv'"
      ]
     },
     "execution_count": 36,
     "metadata": {},
     "output_type": "execute_result"
    }
   ],
   "source": [
    "expPatternNew"
   ]
  },
  {
   "cell_type": "code",
   "execution_count": null,
   "metadata": {},
   "outputs": [],
   "source": []
  }
 ],
 "metadata": {
  "kernelspec": {
   "display_name": "Python 3",
   "language": "python",
   "name": "python3"
  },
  "language_info": {
   "codemirror_mode": {
    "name": "ipython",
    "version": 3
   },
   "file_extension": ".py",
   "mimetype": "text/x-python",
   "name": "python",
   "nbconvert_exporter": "python",
   "pygments_lexer": "ipython3",
   "version": "3.7.4"
  }
 },
 "nbformat": 4,
 "nbformat_minor": 4
}
