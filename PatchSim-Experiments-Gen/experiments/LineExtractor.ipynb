{
 "cells": [
  {
   "cell_type": "code",
   "execution_count": 3,
   "metadata": {},
   "outputs": [],
   "source": [
    "import pandas as pd\n",
    "from glob import glob\n",
    "%matplotlib inline"
   ]
  },
  {
   "cell_type": "markdown",
   "metadata": {},
   "source": [
    "### LineExtractor\n",
    "\n",
    "This notebook looks within an experiment directory, takes the full geography by disease state output files, and generated reduces USNational only files."
   ]
  },
  {
   "cell_type": "code",
   "execution_count": 4,
   "metadata": {},
   "outputs": [],
   "source": [
    "source_dir = 'WorkingTemplateP9_USA/'"
   ]
  },
  {
   "cell_type": "code",
   "execution_count": 5,
   "metadata": {},
   "outputs": [
    {
     "name": "stdout",
     "output_type": "stream",
     "text": [
      "Got 120 files\n"
     ]
    }
   ],
   "source": [
    "get_files = source_dir+ '*/outcomes/HP*'\n",
    "files_to_process = glob(get_files)\n",
    "print(f\"Got {str(len(files_to_process))} files\")"
   ]
  },
  {
   "cell_type": "code",
   "execution_count": 6,
   "metadata": {},
   "outputs": [
    {
     "name": "stdout",
     "output_type": "stream",
     "text": [
      "Extracting US National from WorkingTemplateP9_USA/HP_13/outcomes/HP_13_SymIllness_UVA.csv into WorkingTemplateP9_USA/HP_13/outcomes/USNational/HP_13_SymIllness_UVA.csv\n",
      "Extracting US National from WorkingTemplateP9_USA/HP_13/outcomes/HP_13_Deaths_UVA.csv into WorkingTemplateP9_USA/HP_13/outcomes/USNational/HP_13_Deaths_UVA.csv\n",
      "Extracting US National from WorkingTemplateP9_USA/HP_13/outcomes/HP_13_AntiviralTX_UVA.csv into WorkingTemplateP9_USA/HP_13/outcomes/USNational/HP_13_AntiviralTX_UVA.csv\n",
      "Extracting US National from WorkingTemplateP9_USA/HP_13/outcomes/HP_13_Vent_UVA.csv into WorkingTemplateP9_USA/HP_13/outcomes/USNational/HP_13_Vent_UVA.csv\n",
      "Extracting US National from WorkingTemplateP9_USA/HP_13/outcomes/HP_13_Hosp_UVA.csv into WorkingTemplateP9_USA/HP_13/outcomes/USNational/HP_13_Hosp_UVA.csv\n",
      "Extracting US National from WorkingTemplateP9_USA/HP_10/outcomes/HP_10_Deaths_UVA.csv into WorkingTemplateP9_USA/HP_10/outcomes/USNational/HP_10_Deaths_UVA.csv\n",
      "Extracting US National from WorkingTemplateP9_USA/HP_10/outcomes/HP_10_AntiviralTX_UVA.csv into WorkingTemplateP9_USA/HP_10/outcomes/USNational/HP_10_AntiviralTX_UVA.csv\n",
      "Extracting US National from WorkingTemplateP9_USA/HP_10/outcomes/HP_10_Vent_UVA.csv into WorkingTemplateP9_USA/HP_10/outcomes/USNational/HP_10_Vent_UVA.csv\n",
      "Extracting US National from WorkingTemplateP9_USA/HP_10/outcomes/HP_10_SymIllness_UVA.csv into WorkingTemplateP9_USA/HP_10/outcomes/USNational/HP_10_SymIllness_UVA.csv\n",
      "Extracting US National from WorkingTemplateP9_USA/HP_10/outcomes/HP_10_Hosp_UVA.csv into WorkingTemplateP9_USA/HP_10/outcomes/USNational/HP_10_Hosp_UVA.csv\n",
      "Extracting US National from WorkingTemplateP9_USA/HP_18/outcomes/HP_18_SymIllness_UVA.csv into WorkingTemplateP9_USA/HP_18/outcomes/USNational/HP_18_SymIllness_UVA.csv\n",
      "Extracting US National from WorkingTemplateP9_USA/HP_18/outcomes/HP_18_Hosp_UVA.csv into WorkingTemplateP9_USA/HP_18/outcomes/USNational/HP_18_Hosp_UVA.csv\n",
      "Extracting US National from WorkingTemplateP9_USA/HP_18/outcomes/HP_18_Deaths_UVA.csv into WorkingTemplateP9_USA/HP_18/outcomes/USNational/HP_18_Deaths_UVA.csv\n",
      "Extracting US National from WorkingTemplateP9_USA/HP_18/outcomes/HP_18_Vent_UVA.csv into WorkingTemplateP9_USA/HP_18/outcomes/USNational/HP_18_Vent_UVA.csv\n",
      "Extracting US National from WorkingTemplateP9_USA/HP_18/outcomes/HP_18_AntiviralTX_UVA.csv into WorkingTemplateP9_USA/HP_18/outcomes/USNational/HP_18_AntiviralTX_UVA.csv\n",
      "Extracting US National from WorkingTemplateP9_USA/HP_20/outcomes/HP_20_Hosp_UVA.csv into WorkingTemplateP9_USA/HP_20/outcomes/USNational/HP_20_Hosp_UVA.csv\n",
      "Extracting US National from WorkingTemplateP9_USA/HP_20/outcomes/HP_20_Deaths_UVA.csv into WorkingTemplateP9_USA/HP_20/outcomes/USNational/HP_20_Deaths_UVA.csv\n",
      "Extracting US National from WorkingTemplateP9_USA/HP_20/outcomes/HP_20_SymIllness_UVA.csv into WorkingTemplateP9_USA/HP_20/outcomes/USNational/HP_20_SymIllness_UVA.csv\n",
      "Extracting US National from WorkingTemplateP9_USA/HP_20/outcomes/HP_20_AntiviralTX_UVA.csv into WorkingTemplateP9_USA/HP_20/outcomes/USNational/HP_20_AntiviralTX_UVA.csv\n",
      "Extracting US National from WorkingTemplateP9_USA/HP_20/outcomes/HP_20_Vent_UVA.csv into WorkingTemplateP9_USA/HP_20/outcomes/USNational/HP_20_Vent_UVA.csv\n",
      "Extracting US National from WorkingTemplateP9_USA/HP_15/outcomes/HP_15_AntiviralTX_UVA.csv into WorkingTemplateP9_USA/HP_15/outcomes/USNational/HP_15_AntiviralTX_UVA.csv\n",
      "Extracting US National from WorkingTemplateP9_USA/HP_15/outcomes/HP_15_Deaths_UVA.csv into WorkingTemplateP9_USA/HP_15/outcomes/USNational/HP_15_Deaths_UVA.csv\n",
      "Extracting US National from WorkingTemplateP9_USA/HP_15/outcomes/HP_15_Hosp_UVA.csv into WorkingTemplateP9_USA/HP_15/outcomes/USNational/HP_15_Hosp_UVA.csv\n",
      "Extracting US National from WorkingTemplateP9_USA/HP_15/outcomes/HP_15_SymIllness_UVA.csv into WorkingTemplateP9_USA/HP_15/outcomes/USNational/HP_15_SymIllness_UVA.csv\n",
      "Extracting US National from WorkingTemplateP9_USA/HP_15/outcomes/HP_15_Vent_UVA.csv into WorkingTemplateP9_USA/HP_15/outcomes/USNational/HP_15_Vent_UVA.csv\n",
      "Extracting US National from WorkingTemplateP9_USA/HP_14/outcomes/HP_14_SymIllness_UVA.csv into WorkingTemplateP9_USA/HP_14/outcomes/USNational/HP_14_SymIllness_UVA.csv\n",
      "Extracting US National from WorkingTemplateP9_USA/HP_14/outcomes/HP_14_Deaths_UVA.csv into WorkingTemplateP9_USA/HP_14/outcomes/USNational/HP_14_Deaths_UVA.csv\n",
      "Extracting US National from WorkingTemplateP9_USA/HP_14/outcomes/HP_14_AntiviralTX_UVA.csv into WorkingTemplateP9_USA/HP_14/outcomes/USNational/HP_14_AntiviralTX_UVA.csv\n",
      "Extracting US National from WorkingTemplateP9_USA/HP_14/outcomes/HP_14_Vent_UVA.csv into WorkingTemplateP9_USA/HP_14/outcomes/USNational/HP_14_Vent_UVA.csv\n",
      "Extracting US National from WorkingTemplateP9_USA/HP_14/outcomes/HP_14_Hosp_UVA.csv into WorkingTemplateP9_USA/HP_14/outcomes/USNational/HP_14_Hosp_UVA.csv\n",
      "Extracting US National from WorkingTemplateP9_USA/HP_24/outcomes/HP_24_Deaths_UVA.csv into WorkingTemplateP9_USA/HP_24/outcomes/USNational/HP_24_Deaths_UVA.csv\n",
      "Extracting US National from WorkingTemplateP9_USA/HP_24/outcomes/HP_24_SymIllness_UVA.csv into WorkingTemplateP9_USA/HP_24/outcomes/USNational/HP_24_SymIllness_UVA.csv\n",
      "Extracting US National from WorkingTemplateP9_USA/HP_24/outcomes/HP_24_AntiviralTX_UVA.csv into WorkingTemplateP9_USA/HP_24/outcomes/USNational/HP_24_AntiviralTX_UVA.csv\n",
      "Extracting US National from WorkingTemplateP9_USA/HP_24/outcomes/HP_24_Vent_UVA.csv into WorkingTemplateP9_USA/HP_24/outcomes/USNational/HP_24_Vent_UVA.csv\n",
      "Extracting US National from WorkingTemplateP9_USA/HP_24/outcomes/HP_24_Hosp_UVA.csv into WorkingTemplateP9_USA/HP_24/outcomes/USNational/HP_24_Hosp_UVA.csv\n",
      "Extracting US National from WorkingTemplateP9_USA/HP_21/outcomes/HP_21_Vent_UVA.csv into WorkingTemplateP9_USA/HP_21/outcomes/USNational/HP_21_Vent_UVA.csv\n",
      "Extracting US National from WorkingTemplateP9_USA/HP_21/outcomes/HP_21_AntiviralTX_UVA.csv into WorkingTemplateP9_USA/HP_21/outcomes/USNational/HP_21_AntiviralTX_UVA.csv\n",
      "Extracting US National from WorkingTemplateP9_USA/HP_21/outcomes/HP_21_Deaths_UVA.csv into WorkingTemplateP9_USA/HP_21/outcomes/USNational/HP_21_Deaths_UVA.csv\n",
      "Extracting US National from WorkingTemplateP9_USA/HP_21/outcomes/HP_21_Hosp_UVA.csv into WorkingTemplateP9_USA/HP_21/outcomes/USNational/HP_21_Hosp_UVA.csv\n",
      "Extracting US National from WorkingTemplateP9_USA/HP_21/outcomes/HP_21_SymIllness_UVA.csv into WorkingTemplateP9_USA/HP_21/outcomes/USNational/HP_21_SymIllness_UVA.csv\n",
      "Extracting US National from WorkingTemplateP9_USA/HP_17/outcomes/HP_17_Deaths_UVA.csv into WorkingTemplateP9_USA/HP_17/outcomes/USNational/HP_17_Deaths_UVA.csv\n",
      "Extracting US National from WorkingTemplateP9_USA/HP_17/outcomes/HP_17_AntiviralTX_UVA.csv into WorkingTemplateP9_USA/HP_17/outcomes/USNational/HP_17_AntiviralTX_UVA.csv\n",
      "Extracting US National from WorkingTemplateP9_USA/HP_17/outcomes/HP_17_Vent_UVA.csv into WorkingTemplateP9_USA/HP_17/outcomes/USNational/HP_17_Vent_UVA.csv\n",
      "Extracting US National from WorkingTemplateP9_USA/HP_17/outcomes/HP_17_SymIllness_UVA.csv into WorkingTemplateP9_USA/HP_17/outcomes/USNational/HP_17_SymIllness_UVA.csv\n",
      "Extracting US National from WorkingTemplateP9_USA/HP_17/outcomes/HP_17_Hosp_UVA.csv into WorkingTemplateP9_USA/HP_17/outcomes/USNational/HP_17_Hosp_UVA.csv\n",
      "Extracting US National from WorkingTemplateP9_USA/HP_07/outcomes/HP_07_SymIllness_UVA.csv into WorkingTemplateP9_USA/HP_07/outcomes/USNational/HP_07_SymIllness_UVA.csv\n",
      "Extracting US National from WorkingTemplateP9_USA/HP_07/outcomes/HP_07_Hosp_UVA.csv into WorkingTemplateP9_USA/HP_07/outcomes/USNational/HP_07_Hosp_UVA.csv\n",
      "Extracting US National from WorkingTemplateP9_USA/HP_07/outcomes/HP_07_Deaths_UVA.csv into WorkingTemplateP9_USA/HP_07/outcomes/USNational/HP_07_Deaths_UVA.csv\n",
      "Extracting US National from WorkingTemplateP9_USA/HP_07/outcomes/HP_07_Vent_UVA.csv into WorkingTemplateP9_USA/HP_07/outcomes/USNational/HP_07_Vent_UVA.csv\n",
      "Extracting US National from WorkingTemplateP9_USA/HP_07/outcomes/HP_07_AntiviralTX_UVA.csv into WorkingTemplateP9_USA/HP_07/outcomes/USNational/HP_07_AntiviralTX_UVA.csv\n",
      "Extracting US National from WorkingTemplateP9_USA/HP_16/outcomes/HP_16_AntiviralTX_UVA.csv into WorkingTemplateP9_USA/HP_16/outcomes/USNational/HP_16_AntiviralTX_UVA.csv\n",
      "Extracting US National from WorkingTemplateP9_USA/HP_16/outcomes/HP_16_Hosp_UVA.csv into WorkingTemplateP9_USA/HP_16/outcomes/USNational/HP_16_Hosp_UVA.csv\n",
      "Extracting US National from WorkingTemplateP9_USA/HP_16/outcomes/HP_16_Vent_UVA.csv into WorkingTemplateP9_USA/HP_16/outcomes/USNational/HP_16_Vent_UVA.csv\n",
      "Extracting US National from WorkingTemplateP9_USA/HP_16/outcomes/HP_16_Deaths_UVA.csv into WorkingTemplateP9_USA/HP_16/outcomes/USNational/HP_16_Deaths_UVA.csv\n",
      "Extracting US National from WorkingTemplateP9_USA/HP_16/outcomes/HP_16_SymIllness_UVA.csv into WorkingTemplateP9_USA/HP_16/outcomes/USNational/HP_16_SymIllness_UVA.csv\n",
      "Extracting US National from WorkingTemplateP9_USA/HP_06/outcomes/HP_06_Deaths_UVA.csv into WorkingTemplateP9_USA/HP_06/outcomes/USNational/HP_06_Deaths_UVA.csv\n",
      "Extracting US National from WorkingTemplateP9_USA/HP_06/outcomes/HP_06_Vent_UVA.csv into WorkingTemplateP9_USA/HP_06/outcomes/USNational/HP_06_Vent_UVA.csv\n",
      "Extracting US National from WorkingTemplateP9_USA/HP_06/outcomes/HP_06_AntiviralTX_UVA.csv into WorkingTemplateP9_USA/HP_06/outcomes/USNational/HP_06_AntiviralTX_UVA.csv\n",
      "Extracting US National from WorkingTemplateP9_USA/HP_06/outcomes/HP_06_SymIllness_UVA.csv into WorkingTemplateP9_USA/HP_06/outcomes/USNational/HP_06_SymIllness_UVA.csv\n",
      "Extracting US National from WorkingTemplateP9_USA/HP_06/outcomes/HP_06_Hosp_UVA.csv into WorkingTemplateP9_USA/HP_06/outcomes/USNational/HP_06_Hosp_UVA.csv\n",
      "Extracting US National from WorkingTemplateP9_USA/HP_22/outcomes/HP_22_Vent_UVA.csv into WorkingTemplateP9_USA/HP_22/outcomes/USNational/HP_22_Vent_UVA.csv\n",
      "Extracting US National from WorkingTemplateP9_USA/HP_22/outcomes/HP_22_AntiviralTX_UVA.csv into WorkingTemplateP9_USA/HP_22/outcomes/USNational/HP_22_AntiviralTX_UVA.csv\n",
      "Extracting US National from WorkingTemplateP9_USA/HP_22/outcomes/HP_22_Deaths_UVA.csv into WorkingTemplateP9_USA/HP_22/outcomes/USNational/HP_22_Deaths_UVA.csv\n",
      "Extracting US National from WorkingTemplateP9_USA/HP_22/outcomes/HP_22_SymIllness_UVA.csv into WorkingTemplateP9_USA/HP_22/outcomes/USNational/HP_22_SymIllness_UVA.csv\n",
      "Extracting US National from WorkingTemplateP9_USA/HP_22/outcomes/HP_22_Hosp_UVA.csv into WorkingTemplateP9_USA/HP_22/outcomes/USNational/HP_22_Hosp_UVA.csv\n",
      "Extracting US National from WorkingTemplateP9_USA/HP_12/outcomes/HP_12_SymIllness_UVA.csv into WorkingTemplateP9_USA/HP_12/outcomes/USNational/HP_12_SymIllness_UVA.csv\n",
      "Extracting US National from WorkingTemplateP9_USA/HP_12/outcomes/HP_12_Vent_UVA.csv into WorkingTemplateP9_USA/HP_12/outcomes/USNational/HP_12_Vent_UVA.csv\n",
      "Extracting US National from WorkingTemplateP9_USA/HP_12/outcomes/HP_12_AntiviralTX_UVA.csv into WorkingTemplateP9_USA/HP_12/outcomes/USNational/HP_12_AntiviralTX_UVA.csv\n",
      "Extracting US National from WorkingTemplateP9_USA/HP_12/outcomes/HP_12_Deaths_UVA.csv into WorkingTemplateP9_USA/HP_12/outcomes/USNational/HP_12_Deaths_UVA.csv\n",
      "Extracting US National from WorkingTemplateP9_USA/HP_12/outcomes/HP_12_Hosp_UVA.csv into WorkingTemplateP9_USA/HP_12/outcomes/USNational/HP_12_Hosp_UVA.csv\n",
      "Extracting US National from WorkingTemplateP9_USA/HP_19/outcomes/HP_19_AntiviralTX_UVA.csv into WorkingTemplateP9_USA/HP_19/outcomes/USNational/HP_19_AntiviralTX_UVA.csv\n",
      "Extracting US National from WorkingTemplateP9_USA/HP_19/outcomes/HP_19_Vent_UVA.csv into WorkingTemplateP9_USA/HP_19/outcomes/USNational/HP_19_Vent_UVA.csv\n",
      "Extracting US National from WorkingTemplateP9_USA/HP_19/outcomes/HP_19_Deaths_UVA.csv into WorkingTemplateP9_USA/HP_19/outcomes/USNational/HP_19_Deaths_UVA.csv\n",
      "Extracting US National from WorkingTemplateP9_USA/HP_19/outcomes/HP_19_Hosp_UVA.csv into WorkingTemplateP9_USA/HP_19/outcomes/USNational/HP_19_Hosp_UVA.csv\n",
      "Extracting US National from WorkingTemplateP9_USA/HP_19/outcomes/HP_19_SymIllness_UVA.csv into WorkingTemplateP9_USA/HP_19/outcomes/USNational/HP_19_SymIllness_UVA.csv\n",
      "Extracting US National from WorkingTemplateP9_USA/HP_08/outcomes/HP_08_Deaths_UVA.csv into WorkingTemplateP9_USA/HP_08/outcomes/USNational/HP_08_Deaths_UVA.csv\n",
      "Extracting US National from WorkingTemplateP9_USA/HP_08/outcomes/HP_08_Vent_UVA.csv into WorkingTemplateP9_USA/HP_08/outcomes/USNational/HP_08_Vent_UVA.csv\n",
      "Extracting US National from WorkingTemplateP9_USA/HP_08/outcomes/HP_08_AntiviralTX_UVA.csv into WorkingTemplateP9_USA/HP_08/outcomes/USNational/HP_08_AntiviralTX_UVA.csv\n",
      "Extracting US National from WorkingTemplateP9_USA/HP_08/outcomes/HP_08_SymIllness_UVA.csv into WorkingTemplateP9_USA/HP_08/outcomes/USNational/HP_08_SymIllness_UVA.csv\n",
      "Extracting US National from WorkingTemplateP9_USA/HP_08/outcomes/HP_08_Hosp_UVA.csv into WorkingTemplateP9_USA/HP_08/outcomes/USNational/HP_08_Hosp_UVA.csv\n",
      "Extracting US National from WorkingTemplateP9_USA/HP_03/outcomes/HP_03_Vent_UVA.csv into WorkingTemplateP9_USA/HP_03/outcomes/USNational/HP_03_Vent_UVA.csv\n",
      "Extracting US National from WorkingTemplateP9_USA/HP_03/outcomes/HP_03_SymIllness_UVA.csv into WorkingTemplateP9_USA/HP_03/outcomes/USNational/HP_03_SymIllness_UVA.csv\n",
      "Extracting US National from WorkingTemplateP9_USA/HP_03/outcomes/HP_03_AntiviralTX_UVA.csv into WorkingTemplateP9_USA/HP_03/outcomes/USNational/HP_03_AntiviralTX_UVA.csv\n",
      "Extracting US National from WorkingTemplateP9_USA/HP_03/outcomes/HP_03_Deaths_UVA.csv into WorkingTemplateP9_USA/HP_03/outcomes/USNational/HP_03_Deaths_UVA.csv\n",
      "Extracting US National from WorkingTemplateP9_USA/HP_03/outcomes/HP_03_Hosp_UVA.csv into WorkingTemplateP9_USA/HP_03/outcomes/USNational/HP_03_Hosp_UVA.csv\n",
      "Extracting US National from WorkingTemplateP9_USA/HP_02/outcomes/HP_02_AntiviralTX_UVA.csv into WorkingTemplateP9_USA/HP_02/outcomes/USNational/HP_02_AntiviralTX_UVA.csv\n",
      "Extracting US National from WorkingTemplateP9_USA/HP_02/outcomes/HP_02_Hosp_UVA.csv into WorkingTemplateP9_USA/HP_02/outcomes/USNational/HP_02_Hosp_UVA.csv\n",
      "Extracting US National from WorkingTemplateP9_USA/HP_02/outcomes/HP_02_SymIllness_UVA.csv into WorkingTemplateP9_USA/HP_02/outcomes/USNational/HP_02_SymIllness_UVA.csv\n",
      "Extracting US National from WorkingTemplateP9_USA/HP_02/outcomes/HP_02_Vent_UVA.csv into WorkingTemplateP9_USA/HP_02/outcomes/USNational/HP_02_Vent_UVA.csv\n",
      "Extracting US National from WorkingTemplateP9_USA/HP_02/outcomes/HP_02_Deaths_UVA.csv into WorkingTemplateP9_USA/HP_02/outcomes/USNational/HP_02_Deaths_UVA.csv\n",
      "Extracting US National from WorkingTemplateP9_USA/HP_11/outcomes/HP_11_Deaths_UVA.csv into WorkingTemplateP9_USA/HP_11/outcomes/USNational/HP_11_Deaths_UVA.csv\n",
      "Extracting US National from WorkingTemplateP9_USA/HP_11/outcomes/HP_11_SymIllness_UVA.csv into WorkingTemplateP9_USA/HP_11/outcomes/USNational/HP_11_SymIllness_UVA.csv\n",
      "Extracting US National from WorkingTemplateP9_USA/HP_11/outcomes/HP_11_AntiviralTX_UVA.csv into WorkingTemplateP9_USA/HP_11/outcomes/USNational/HP_11_AntiviralTX_UVA.csv\n",
      "Extracting US National from WorkingTemplateP9_USA/HP_11/outcomes/HP_11_Vent_UVA.csv into WorkingTemplateP9_USA/HP_11/outcomes/USNational/HP_11_Vent_UVA.csv\n",
      "Extracting US National from WorkingTemplateP9_USA/HP_11/outcomes/HP_11_Hosp_UVA.csv into WorkingTemplateP9_USA/HP_11/outcomes/USNational/HP_11_Hosp_UVA.csv\n",
      "Extracting US National from WorkingTemplateP9_USA/HP_09/outcomes/HP_09_AntiviralTX_UVA.csv into WorkingTemplateP9_USA/HP_09/outcomes/USNational/HP_09_AntiviralTX_UVA.csv\n",
      "Extracting US National from WorkingTemplateP9_USA/HP_09/outcomes/HP_09_Vent_UVA.csv into WorkingTemplateP9_USA/HP_09/outcomes/USNational/HP_09_Vent_UVA.csv\n",
      "Extracting US National from WorkingTemplateP9_USA/HP_09/outcomes/HP_09_SymIllness_UVA.csv into WorkingTemplateP9_USA/HP_09/outcomes/USNational/HP_09_SymIllness_UVA.csv\n",
      "Extracting US National from WorkingTemplateP9_USA/HP_09/outcomes/HP_09_Deaths_UVA.csv into WorkingTemplateP9_USA/HP_09/outcomes/USNational/HP_09_Deaths_UVA.csv\n",
      "Extracting US National from WorkingTemplateP9_USA/HP_09/outcomes/HP_09_Hosp_UVA.csv into WorkingTemplateP9_USA/HP_09/outcomes/USNational/HP_09_Hosp_UVA.csv\n",
      "Extracting US National from WorkingTemplateP9_USA/HP_01/outcomes/HP_01_Vent_UVA.csv into WorkingTemplateP9_USA/HP_01/outcomes/USNational/HP_01_Vent_UVA.csv\n",
      "Extracting US National from WorkingTemplateP9_USA/HP_01/outcomes/HP_01_AntiviralTX_UVA.csv into WorkingTemplateP9_USA/HP_01/outcomes/USNational/HP_01_AntiviralTX_UVA.csv\n",
      "Extracting US National from WorkingTemplateP9_USA/HP_01/outcomes/HP_01_SymIllness_UVA.csv into WorkingTemplateP9_USA/HP_01/outcomes/USNational/HP_01_SymIllness_UVA.csv\n",
      "Extracting US National from WorkingTemplateP9_USA/HP_01/outcomes/HP_01_Hosp_UVA.csv into WorkingTemplateP9_USA/HP_01/outcomes/USNational/HP_01_Hosp_UVA.csv\n",
      "Extracting US National from WorkingTemplateP9_USA/HP_01/outcomes/HP_01_Deaths_UVA.csv into WorkingTemplateP9_USA/HP_01/outcomes/USNational/HP_01_Deaths_UVA.csv\n",
      "Extracting US National from WorkingTemplateP9_USA/HP_05/outcomes/HP_05_Hosp_UVA.csv into WorkingTemplateP9_USA/HP_05/outcomes/USNational/HP_05_Hosp_UVA.csv\n",
      "Extracting US National from WorkingTemplateP9_USA/HP_05/outcomes/HP_05_SymIllness_UVA.csv into WorkingTemplateP9_USA/HP_05/outcomes/USNational/HP_05_SymIllness_UVA.csv\n",
      "Extracting US National from WorkingTemplateP9_USA/HP_05/outcomes/HP_05_Deaths_UVA.csv into WorkingTemplateP9_USA/HP_05/outcomes/USNational/HP_05_Deaths_UVA.csv\n",
      "Extracting US National from WorkingTemplateP9_USA/HP_05/outcomes/HP_05_AntiviralTX_UVA.csv into WorkingTemplateP9_USA/HP_05/outcomes/USNational/HP_05_AntiviralTX_UVA.csv\n",
      "Extracting US National from WorkingTemplateP9_USA/HP_05/outcomes/HP_05_Vent_UVA.csv into WorkingTemplateP9_USA/HP_05/outcomes/USNational/HP_05_Vent_UVA.csv\n",
      "Extracting US National from WorkingTemplateP9_USA/HP_04/outcomes/HP_04_Vent_UVA.csv into WorkingTemplateP9_USA/HP_04/outcomes/USNational/HP_04_Vent_UVA.csv\n",
      "Extracting US National from WorkingTemplateP9_USA/HP_04/outcomes/HP_04_AntiviralTX_UVA.csv into WorkingTemplateP9_USA/HP_04/outcomes/USNational/HP_04_AntiviralTX_UVA.csv\n",
      "Extracting US National from WorkingTemplateP9_USA/HP_04/outcomes/HP_04_Hosp_UVA.csv into WorkingTemplateP9_USA/HP_04/outcomes/USNational/HP_04_Hosp_UVA.csv\n",
      "Extracting US National from WorkingTemplateP9_USA/HP_04/outcomes/HP_04_SymIllness_UVA.csv into WorkingTemplateP9_USA/HP_04/outcomes/USNational/HP_04_SymIllness_UVA.csv\n",
      "Extracting US National from WorkingTemplateP9_USA/HP_04/outcomes/HP_04_Deaths_UVA.csv into WorkingTemplateP9_USA/HP_04/outcomes/USNational/HP_04_Deaths_UVA.csv\n",
      "Extracting US National from WorkingTemplateP9_USA/HP_23/outcomes/HP_23_Deaths_UVA.csv into WorkingTemplateP9_USA/HP_23/outcomes/USNational/HP_23_Deaths_UVA.csv\n",
      "Extracting US National from WorkingTemplateP9_USA/HP_23/outcomes/HP_23_Vent_UVA.csv into WorkingTemplateP9_USA/HP_23/outcomes/USNational/HP_23_Vent_UVA.csv\n",
      "Extracting US National from WorkingTemplateP9_USA/HP_23/outcomes/HP_23_SymIllness_UVA.csv into WorkingTemplateP9_USA/HP_23/outcomes/USNational/HP_23_SymIllness_UVA.csv\n",
      "Extracting US National from WorkingTemplateP9_USA/HP_23/outcomes/HP_23_AntiviralTX_UVA.csv into WorkingTemplateP9_USA/HP_23/outcomes/USNational/HP_23_AntiviralTX_UVA.csv\n",
      "Extracting US National from WorkingTemplateP9_USA/HP_23/outcomes/HP_23_Hosp_UVA.csv into WorkingTemplateP9_USA/HP_23/outcomes/USNational/HP_23_Hosp_UVA.csv\n"
     ]
    }
   ],
   "source": [
    "get_pop = 'US National'\n",
    "dest_dir = \"USNational\"\n",
    "\n",
    "for f in sorted(files_to_process):\n",
    "    new_file = f\"{f.split('outcomes/')[0]}outcomes/{dest_dir}/{f.split('outcomes/')[1]}\"\n",
    "    print(f\"Extracting {get_pop} from {f} into {new_file}\")\n",
    "    df = pd.read_csv(f)\n",
    "    new_df = df[df.Location == get_pop]\n",
    "    new_df.to_csv(new_file,index=False)\n",
    "    "
   ]
  },
  {
   "cell_type": "code",
   "execution_count": null,
   "metadata": {},
   "outputs": [],
   "source": []
  }
 ],
 "metadata": {
  "kernelspec": {
   "display_name": "Python 3",
   "language": "python",
   "name": "python3"
  },
  "language_info": {
   "codemirror_mode": {
    "name": "ipython",
    "version": 3
   },
   "file_extension": ".py",
   "mimetype": "text/x-python",
   "name": "python",
   "nbconvert_exporter": "python",
   "pygments_lexer": "ipython3",
   "version": "3.7.4"
  }
 },
 "nbformat": 4,
 "nbformat_minor": 4
}
